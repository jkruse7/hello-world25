{
 "cells": [
  {
   "cell_type": "code",
   "execution_count": 1,
   "id": "f3295f9c-c68e-4825-b5b2-190a08dfe325",
   "metadata": {},
   "outputs": [
    {
     "name": "stdout",
     "output_type": "stream",
     "text": [
      "hi i added this\n"
     ]
    }
   ],
   "source": [
    "print(\"hi i added this\")"
   ]
  },
  {
   "cell_type": "code",
   "execution_count": 3,
   "id": "57539d6a-fdf4-4a32-bbad-9af1763f64ac",
   "metadata": {},
   "outputs": [
    {
     "name": "stdin",
     "output_type": "stream",
     "text": [
      "what's your favorite bird?  kiwi\n"
     ]
    },
    {
     "name": "stdout",
     "output_type": "stream",
     "text": [
      "Your favorite bird is the kiwi.\n"
     ]
    }
   ],
   "source": [
    "bird = input(\"what's your favorite bird? \")\n",
    "print(f'Your favorite bird is the {bird}.')"
   ]
  },
  {
   "cell_type": "code",
   "execution_count": null,
   "id": "11df030e-b421-4914-8dd0-a36070a603a5",
   "metadata": {},
   "outputs": [],
   "source": []
  }
 ],
 "metadata": {
  "kernelspec": {
   "display_name": "Python 3 (ipykernel)",
   "language": "python",
   "name": "python3"
  },
  "language_info": {
   "codemirror_mode": {
    "name": "ipython",
    "version": 3
   },
   "file_extension": ".py",
   "mimetype": "text/x-python",
   "name": "python",
   "nbconvert_exporter": "python",
   "pygments_lexer": "ipython3",
   "version": "3.11.5"
  }
 },
 "nbformat": 4,
 "nbformat_minor": 5
}
